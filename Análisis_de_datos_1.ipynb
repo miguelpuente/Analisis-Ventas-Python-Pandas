{
  "nbformat": 4,
  "nbformat_minor": 0,
  "metadata": {
    "colab": {
      "provenance": [],
      "collapsed_sections": [
        "HDVa0IYR_FhP"
      ],
      "authorship_tag": "ABX9TyOsU2Wtu/bQtIILAuVq10jN",
      "include_colab_link": true
    },
    "kernelspec": {
      "name": "python3",
      "display_name": "Python 3"
    },
    "language_info": {
      "name": "python"
    }
  },
  "cells": [
    {
      "cell_type": "markdown",
      "metadata": {
        "id": "view-in-github",
        "colab_type": "text"
      },
      "source": [
        "<a href=\"https://colab.research.google.com/github/miguelpuente/Analisis-Ventas-Python-Pandas/blob/eda/An%C3%A1lisis_de_datos_1.ipynb\" target=\"_parent\"><img src=\"https://colab.research.google.com/assets/colab-badge.svg\" alt=\"Open In Colab\"/></a>"
      ]
    },
    {
      "cell_type": "markdown",
      "source": [
        "# Análisis de datos"
      ],
      "metadata": {
        "id": "ZpGBpVI69dCK"
      }
    },
    {
      "cell_type": "markdown",
      "source": [
        "## 1 - ETL (Extración, Transformación y Carga)"
      ],
      "metadata": {
        "id": "90wIlmqG-Lg9"
      }
    },
    {
      "cell_type": "markdown",
      "source": [
        "### 1. Extración (Extract)"
      ],
      "metadata": {
        "id": "HDVa0IYR_FhP"
      }
    },
    {
      "cell_type": "code",
      "source": [
        "from google.colab import drive\n",
        "import pandas as pd\n",
        "import chardet\n",
        "\n",
        "# Montamos Google Drive para acceder al archivo\n",
        "drive.mount('/content/drive', force_remount=True)\n",
        "\n",
        "ruta_archivo = '/content/drive/MyDrive/ventas.csv'\n",
        "with open(ruta_archivo, 'rb') as f:\n",
        "    result = chardet.detect(f.read())\n",
        "\n",
        "try:\n",
        "  df = pd.read_csv(ruta_archivo, encoding=result['encoding'], sep=';', decimal=',')\n",
        "  print('Extración de datos exitosa')\n",
        "except FileNotFoundError:\n",
        "  print(f'El archivo no se encuentra en la ruta: {ruta_archivo}')\n"
      ],
      "metadata": {
        "id": "tP52fw6J-Zay",
        "colab": {
          "base_uri": "https://localhost:8080/"
        },
        "outputId": "9c88305a-a16d-4d21-d8cc-1425841a2d44"
      },
      "execution_count": 1,
      "outputs": [
        {
          "output_type": "stream",
          "name": "stdout",
          "text": [
            "Mounted at /content/drive\n",
            "Extración de datos exitosa\n"
          ]
        }
      ]
    },
    {
      "cell_type": "markdown",
      "source": [
        "### 2. Transformación (Transform)"
      ],
      "metadata": {
        "id": "uOweJMitEXwj"
      }
    },
    {
      "cell_type": "code",
      "source": [
        "# Muestra las primeras 5 filas del DataFrame\n",
        "df.head(10)"
      ],
      "metadata": {
        "id": "inHLG0A8EvvZ"
      },
      "execution_count": null,
      "outputs": []
    },
    {
      "cell_type": "code",
      "source": [
        "# Resumen de la información del DataFrame\n",
        "df.info()"
      ],
      "metadata": {
        "id": "1g3Vwm0IIjO4",
        "colab": {
          "base_uri": "https://localhost:8080/"
        },
        "outputId": "e1bf6cbe-1c5e-4168-f5fc-0ab1cc718692"
      },
      "execution_count": 8,
      "outputs": [
        {
          "output_type": "stream",
          "name": "stdout",
          "text": [
            "<class 'pandas.core.frame.DataFrame'>\n",
            "RangeIndex: 800 entries, 0 to 799\n",
            "Data columns (total 9 columns):\n",
            " #   Column      Non-Null Count  Dtype         \n",
            "---  ------      --------------  -----         \n",
            " 0   tienda      800 non-null    object        \n",
            " 1   marca       800 non-null    object        \n",
            " 2   tipo        800 non-null    object        \n",
            " 3   genero      800 non-null    object        \n",
            " 4   talla       800 non-null    object        \n",
            " 5   color       800 non-null    object        \n",
            " 6   categoria   800 non-null    object        \n",
            " 7   precio      800 non-null    float64       \n",
            " 8   fecha_hora  800 non-null    datetime64[ns]\n",
            "dtypes: datetime64[ns](1), float64(1), object(7)\n",
            "memory usage: 56.4+ KB\n"
          ]
        }
      ]
    },
    {
      "cell_type": "code",
      "source": [
        "# Renombrar columnas para facilitar el acceso y evitar caracteres especiales\n",
        "df.rename(columns ={\n",
        "    'Tienda': 'tienda',\n",
        "    'Marca': 'marca',\n",
        "    'Tipo': 'tipo',\n",
        "    'Gï¿½nero': 'genero',\n",
        "    'Talla': 'talla',\n",
        "    'Color': 'color',\n",
        "    'Categoria': 'categoria',\n",
        "    'precio de venta': 'precio',\n",
        "    'Fecha': 'fecha',\n",
        "    'Hora': 'hora'\n",
        "}, inplace=True)\n",
        "\n",
        "# Convertí la columna 'precio' a numérica\n",
        "df['precio'] = df['precio'].astype(str)\n",
        "df['precio'] = df['precio'].str.replace(',', '.', regex=True).astype(float)\n",
        "\n",
        "# Limpiar y unificar los datos de la columna 'genero'\n",
        "df['genero'] = df['genero'].str.replace('Masculino', 'M', regex=False).str.replace('Femenino', 'F', regex=False).str.replace('Usinex', 'U', regex=False)\n",
        "\n",
        "# Crear una columna de fecha y hora combinada y convertila al tipo datatime\n",
        "df['fecha_hora'] = pd.to_datetime(df['fecha'] + ' ' + df['hora'], format='%d/%m/%Y %H:%M:%S')\n",
        "\n",
        "# Eliminar las columnas originales de fecha y hora\n",
        "df.drop(columns=['fecha', 'hora'], inplace=True)\n",
        "\n",
        "print(\"Transformación de datos exitosa\")\n"
      ],
      "metadata": {
        "colab": {
          "base_uri": "https://localhost:8080/"
        },
        "id": "sP1g9ZhGLEF_",
        "outputId": "55cf05db-dfd6-40b9-c005-84bcd3c50ec7"
      },
      "execution_count": 3,
      "outputs": [
        {
          "output_type": "stream",
          "name": "stdout",
          "text": [
            "Transformación de datos exitosa\n"
          ]
        }
      ]
    },
    {
      "cell_type": "markdown",
      "source": [
        "### 3. Carga (Load)"
      ],
      "metadata": {
        "id": "RW8p7SsxBOAf"
      }
    },
    {
      "cell_type": "code",
      "source": [
        "# definir la ruta de salida para guardar el nuevo CSV\n",
        "ruta_salida = '/content/drive/MyDrive/ventas_transformadas.csv'\n",
        "\n",
        "# Guardar el dataframe transformado en un nuevo archivo CSV en Drive\n",
        "df.to_csv(ruta_salida, index=False, sep=',')\n",
        "\n",
        "print(f'Archivo CSV guardado en: {ruta_salida}')"
      ],
      "metadata": {
        "id": "9zxL45boBcdF"
      },
      "execution_count": null,
      "outputs": []
    },
    {
      "cell_type": "markdown",
      "source": [
        "## 2 - EDA (Análisis Exploratorio de datos)"
      ],
      "metadata": {
        "id": "1ksrWj9xGyZf"
      }
    },
    {
      "cell_type": "code",
      "source": [
        "# Cuanto facturó cada tienda.\n",
        "facturacion_ordenada = df.groupby(['tienda', 'marca'])['precio'].sum().reset_index()\n",
        "\n",
        "top = facturacion_ordenada.sort_values(by='precio', ascending=False)\n",
        "\n",
        "print(top.head(3))"
      ],
      "metadata": {
        "id": "bu_1jwB-HJ3k"
      },
      "execution_count": null,
      "outputs": []
    },
    {
      "cell_type": "code",
      "source": [
        "# Filtrado condicional -- Boolean Indexing\n",
        "\n",
        "# 1 - Definir la condición: categoria es Pantalon & color es Negro\n",
        "condicion = (df['categoria'] == 'Pantalon') & (df['color'] == 'Negro')\n",
        "\n",
        "# 2 - Aplicar la condición al DataFrame\n",
        "df_filtrado = df[condicion]\n",
        "\n",
        "# 3 - Responder la pregunta\n",
        "conteo_transacciones = df_filtrado['precio'].count()\n",
        "facturacion_total = df_filtrado['precio'].sum()\n",
        "\n",
        "print(f'Cantidad de pantalones negros vendidos : {conteo_transacciones} por un monto de {facturacion_total} ')\n",
        "\n"
      ],
      "metadata": {
        "id": "zmFm1vlpMCHE"
      },
      "execution_count": null,
      "outputs": []
    },
    {
      "cell_type": "code",
      "source": [
        "# Extracción de Componentes de Fecha y Hora (.dt)\n",
        "\n",
        "# Pregunta de Negocio: ¿Qué día de la semana (Lunes=0 a Domingo=6) fue el más rentable en términos de facturación total?\n",
        "\n",
        "# Atributo .dt\tValor Devuelto\n",
        "# .dt.dayofweek\tNúmero del día de la semana (0 a 6).\n",
        "# .dt.day_name()\tNombre del día de la semana.\n",
        "# .dt.month\tNúmero del mes (1 a 12).\n",
        "\n",
        "# 1. Extraer el día de la semana (como nombre)\n",
        "df['dia_semana'] = df['fecha_hora'].dt.day_name()\n",
        "\n",
        "# 2. Agrupar la facturación por el nuevo día de la semana\n",
        "rentabilidad_por_dia = df.groupby('dia_semana')['precio'].sum().reset_index(name='facturacion_total')\n",
        "\n",
        "# 3. Ordenar para encontrar el día más rentable\n",
        "dia_mas_rentable = rentabilidad_por_dia.sort_values(by='facturacion_total', ascending=False)\n",
        "\n",
        "print(\"\\n--- Análisis Temporal: Facturación por Día de la Semana ---\")\n",
        "print(dia_mas_rentable)"
      ],
      "metadata": {
        "id": "6uvUWRA4ewir"
      },
      "execution_count": null,
      "outputs": []
    },
    {
      "cell_type": "code",
      "source": [
        "# Tablas Dinámicas (Pivot Tables)\n",
        "\n",
        "# Pregunta de Negocio: ¿Cuál es el precio promedio de los productos, desglosado por tienda (en filas)\n",
        "#y por categoría (en columnas)?\n",
        "\n",
        "# Parámetro\tFunción\n",
        "# index\tLa(s) columna(s) que se usarán como filas (eje X).\n",
        "# columns\tLa(s) columna(s) que se usarán como columnas (eje Y).\n",
        "# values\tLa columna sobre la cual se aplicará la agregación.\n",
        "# aggfunc\tLa función de agregación a aplicar ('mean', 'sum', 'count', etc.).\n",
        "\n",
        "# 1. Usar el método pivot_table\n",
        "tabla_promedio_tienda_categoria = pd.pivot_table(\n",
        "    df,\n",
        "    values='precio',     # Queremos el promedio del 'precio'\n",
        "    index='tienda',      # Desglosado en filas por 'tienda'\n",
        "    columns='categoria', # Desglosado en columnas por 'categoria'\n",
        "    aggfunc='count'       # La función de agregación es el promedio\n",
        ")\n",
        "\n",
        "#print(\"\\n--- Tabla Dinámica: Precio Promedio por Tienda y Categoría ---\")\n",
        "print(tabla_promedio_tienda_categoria)\n"
      ],
      "metadata": {
        "id": "_VIIP1XmdKp0"
      },
      "execution_count": null,
      "outputs": []
    }
  ]
}