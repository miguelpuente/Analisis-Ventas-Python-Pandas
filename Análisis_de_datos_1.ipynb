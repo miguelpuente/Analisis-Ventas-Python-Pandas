{
  "nbformat": 4,
  "nbformat_minor": 0,
  "metadata": {
    "colab": {
      "provenance": [],
      "collapsed_sections": [
        "HDVa0IYR_FhP"
      ],
      "authorship_tag": "ABX9TyPlMx7ji/p889AAtP8TlTI4",
      "include_colab_link": true
    },
    "kernelspec": {
      "name": "python3",
      "display_name": "Python 3"
    },
    "language_info": {
      "name": "python"
    }
  },
  "cells": [
    {
      "cell_type": "markdown",
      "metadata": {
        "id": "view-in-github",
        "colab_type": "text"
      },
      "source": [
        "<a href=\"https://colab.research.google.com/github/miguelpuente/Analisis-Ventas-Python-Pandas/blob/eda/An%C3%A1lisis_de_datos_1.ipynb\" target=\"_parent\"><img src=\"https://colab.research.google.com/assets/colab-badge.svg\" alt=\"Open In Colab\"/></a>"
      ]
    },
    {
      "cell_type": "markdown",
      "source": [
        "# Análisis de datos"
      ],
      "metadata": {
        "id": "ZpGBpVI69dCK"
      }
    },
    {
      "cell_type": "markdown",
      "source": [
        "## 1 - ETL (Extración, Transformación y Carga)"
      ],
      "metadata": {
        "id": "90wIlmqG-Lg9"
      }
    },
    {
      "cell_type": "markdown",
      "source": [
        "### 1. Extración (Extract)"
      ],
      "metadata": {
        "id": "HDVa0IYR_FhP"
      }
    },
    {
      "cell_type": "code",
      "source": [
        "from google.colab import drive\n",
        "import pandas as pd\n",
        "import chardet\n",
        "\n",
        "# Montamos Google Drive para acceder al archivo\n",
        "drive.mount('/content/drive', force_remount=True)\n",
        "\n",
        "ruta_archivo = '/content/drive/MyDrive/ventas.csv'\n",
        "with open(ruta_archivo, 'rb') as f:\n",
        "    result = chardet.detect(f.read())\n",
        "\n",
        "try:\n",
        "  df = pd.read_csv(ruta_archivo, encoding=result['encoding'], sep=';', decimal=',')\n",
        "  print('Extración de datos exitosa')\n",
        "except FileNotFoundError:\n",
        "  print(f'El archivo no se encuentra en la ruta: {ruta_archivo}')\n"
      ],
      "metadata": {
        "id": "tP52fw6J-Zay"
      },
      "execution_count": null,
      "outputs": []
    },
    {
      "cell_type": "markdown",
      "source": [
        "### 2. Transformación (Transform)"
      ],
      "metadata": {
        "id": "uOweJMitEXwj"
      }
    },
    {
      "cell_type": "code",
      "source": [
        "# Muestra las primeras 5 filas del DataFrame\n",
        "df.head(10)"
      ],
      "metadata": {
        "colab": {
          "base_uri": "https://localhost:8080/",
          "height": 363
        },
        "id": "inHLG0A8EvvZ",
        "outputId": "279392b8-906f-46b7-88ab-802bdfb6be80"
      },
      "execution_count": 23,
      "outputs": [
        {
          "output_type": "execute_result",
          "data": {
            "text/plain": [
              "  tienda  marca                  tipo genero  talla       color  \\\n",
              "0   Lima  Asics                WB1820      F     42        Azul   \n",
              "1   Lima  Asics     Kayano Single Tab      U  42-44        Azul   \n",
              "2   Lima  Asics                WB1820      F     37      Rosado   \n",
              "3   Lima  Asics                WB2585      F     39       Negro   \n",
              "4   Lima  Asics                WB1820      F     46  Multicolor   \n",
              "5   Lima  Asics                WB1820      F     39        Azul   \n",
              "6   Lima  Asics                MB1878      M     38       Negro   \n",
              "7   Lima  Asics  Hera Deux Single Tab      F  42-44       Negro   \n",
              "8   Lima  Asics                MB1878      M     38       Negro   \n",
              "9   Lima  Asics                MB1878      M     46       Negro   \n",
              "\n",
              "       categoria  precio          fecha_hora  \n",
              "0       Pantalon   89.00 2015-07-15 07:32:00  \n",
              "1  Ropa interior   24.99 2015-07-15 07:33:00  \n",
              "2       Pantalon   89.00 2015-07-15 07:52:00  \n",
              "3       Pantalon   99.00 2015-07-15 07:58:00  \n",
              "4       Pantalon   89.00 2015-07-15 08:19:00  \n",
              "5       Pantalon   89.00 2015-07-15 08:48:00  \n",
              "6       Pantalon   99.00 2015-07-15 09:07:00  \n",
              "7  Ropa interior   12.99 2015-07-15 09:11:00  \n",
              "8       Pantalon   99.00 2015-07-15 10:04:00  \n",
              "9       Pantalon   99.00 2015-07-15 10:06:00  "
            ],
            "text/html": [
              "\n",
              "  <div id=\"df-2e413591-b1ec-424e-8aa3-cdb3546843a9\" class=\"colab-df-container\">\n",
              "    <div>\n",
              "<style scoped>\n",
              "    .dataframe tbody tr th:only-of-type {\n",
              "        vertical-align: middle;\n",
              "    }\n",
              "\n",
              "    .dataframe tbody tr th {\n",
              "        vertical-align: top;\n",
              "    }\n",
              "\n",
              "    .dataframe thead th {\n",
              "        text-align: right;\n",
              "    }\n",
              "</style>\n",
              "<table border=\"1\" class=\"dataframe\">\n",
              "  <thead>\n",
              "    <tr style=\"text-align: right;\">\n",
              "      <th></th>\n",
              "      <th>tienda</th>\n",
              "      <th>marca</th>\n",
              "      <th>tipo</th>\n",
              "      <th>genero</th>\n",
              "      <th>talla</th>\n",
              "      <th>color</th>\n",
              "      <th>categoria</th>\n",
              "      <th>precio</th>\n",
              "      <th>fecha_hora</th>\n",
              "    </tr>\n",
              "  </thead>\n",
              "  <tbody>\n",
              "    <tr>\n",
              "      <th>0</th>\n",
              "      <td>Lima</td>\n",
              "      <td>Asics</td>\n",
              "      <td>WB1820</td>\n",
              "      <td>F</td>\n",
              "      <td>42</td>\n",
              "      <td>Azul</td>\n",
              "      <td>Pantalon</td>\n",
              "      <td>89.00</td>\n",
              "      <td>2015-07-15 07:32:00</td>\n",
              "    </tr>\n",
              "    <tr>\n",
              "      <th>1</th>\n",
              "      <td>Lima</td>\n",
              "      <td>Asics</td>\n",
              "      <td>Kayano Single Tab</td>\n",
              "      <td>U</td>\n",
              "      <td>42-44</td>\n",
              "      <td>Azul</td>\n",
              "      <td>Ropa interior</td>\n",
              "      <td>24.99</td>\n",
              "      <td>2015-07-15 07:33:00</td>\n",
              "    </tr>\n",
              "    <tr>\n",
              "      <th>2</th>\n",
              "      <td>Lima</td>\n",
              "      <td>Asics</td>\n",
              "      <td>WB1820</td>\n",
              "      <td>F</td>\n",
              "      <td>37</td>\n",
              "      <td>Rosado</td>\n",
              "      <td>Pantalon</td>\n",
              "      <td>89.00</td>\n",
              "      <td>2015-07-15 07:52:00</td>\n",
              "    </tr>\n",
              "    <tr>\n",
              "      <th>3</th>\n",
              "      <td>Lima</td>\n",
              "      <td>Asics</td>\n",
              "      <td>WB2585</td>\n",
              "      <td>F</td>\n",
              "      <td>39</td>\n",
              "      <td>Negro</td>\n",
              "      <td>Pantalon</td>\n",
              "      <td>99.00</td>\n",
              "      <td>2015-07-15 07:58:00</td>\n",
              "    </tr>\n",
              "    <tr>\n",
              "      <th>4</th>\n",
              "      <td>Lima</td>\n",
              "      <td>Asics</td>\n",
              "      <td>WB1820</td>\n",
              "      <td>F</td>\n",
              "      <td>46</td>\n",
              "      <td>Multicolor</td>\n",
              "      <td>Pantalon</td>\n",
              "      <td>89.00</td>\n",
              "      <td>2015-07-15 08:19:00</td>\n",
              "    </tr>\n",
              "    <tr>\n",
              "      <th>5</th>\n",
              "      <td>Lima</td>\n",
              "      <td>Asics</td>\n",
              "      <td>WB1820</td>\n",
              "      <td>F</td>\n",
              "      <td>39</td>\n",
              "      <td>Azul</td>\n",
              "      <td>Pantalon</td>\n",
              "      <td>89.00</td>\n",
              "      <td>2015-07-15 08:48:00</td>\n",
              "    </tr>\n",
              "    <tr>\n",
              "      <th>6</th>\n",
              "      <td>Lima</td>\n",
              "      <td>Asics</td>\n",
              "      <td>MB1878</td>\n",
              "      <td>M</td>\n",
              "      <td>38</td>\n",
              "      <td>Negro</td>\n",
              "      <td>Pantalon</td>\n",
              "      <td>99.00</td>\n",
              "      <td>2015-07-15 09:07:00</td>\n",
              "    </tr>\n",
              "    <tr>\n",
              "      <th>7</th>\n",
              "      <td>Lima</td>\n",
              "      <td>Asics</td>\n",
              "      <td>Hera Deux Single Tab</td>\n",
              "      <td>F</td>\n",
              "      <td>42-44</td>\n",
              "      <td>Negro</td>\n",
              "      <td>Ropa interior</td>\n",
              "      <td>12.99</td>\n",
              "      <td>2015-07-15 09:11:00</td>\n",
              "    </tr>\n",
              "    <tr>\n",
              "      <th>8</th>\n",
              "      <td>Lima</td>\n",
              "      <td>Asics</td>\n",
              "      <td>MB1878</td>\n",
              "      <td>M</td>\n",
              "      <td>38</td>\n",
              "      <td>Negro</td>\n",
              "      <td>Pantalon</td>\n",
              "      <td>99.00</td>\n",
              "      <td>2015-07-15 10:04:00</td>\n",
              "    </tr>\n",
              "    <tr>\n",
              "      <th>9</th>\n",
              "      <td>Lima</td>\n",
              "      <td>Asics</td>\n",
              "      <td>MB1878</td>\n",
              "      <td>M</td>\n",
              "      <td>46</td>\n",
              "      <td>Negro</td>\n",
              "      <td>Pantalon</td>\n",
              "      <td>99.00</td>\n",
              "      <td>2015-07-15 10:06:00</td>\n",
              "    </tr>\n",
              "  </tbody>\n",
              "</table>\n",
              "</div>\n",
              "    <div class=\"colab-df-buttons\">\n",
              "\n",
              "  <div class=\"colab-df-container\">\n",
              "    <button class=\"colab-df-convert\" onclick=\"convertToInteractive('df-2e413591-b1ec-424e-8aa3-cdb3546843a9')\"\n",
              "            title=\"Convert this dataframe to an interactive table.\"\n",
              "            style=\"display:none;\">\n",
              "\n",
              "  <svg xmlns=\"http://www.w3.org/2000/svg\" height=\"24px\" viewBox=\"0 -960 960 960\">\n",
              "    <path d=\"M120-120v-720h720v720H120Zm60-500h600v-160H180v160Zm220 220h160v-160H400v160Zm0 220h160v-160H400v160ZM180-400h160v-160H180v160Zm440 0h160v-160H620v160ZM180-180h160v-160H180v160Zm440 0h160v-160H620v160Z\"/>\n",
              "  </svg>\n",
              "    </button>\n",
              "\n",
              "  <style>\n",
              "    .colab-df-container {\n",
              "      display:flex;\n",
              "      gap: 12px;\n",
              "    }\n",
              "\n",
              "    .colab-df-convert {\n",
              "      background-color: #E8F0FE;\n",
              "      border: none;\n",
              "      border-radius: 50%;\n",
              "      cursor: pointer;\n",
              "      display: none;\n",
              "      fill: #1967D2;\n",
              "      height: 32px;\n",
              "      padding: 0 0 0 0;\n",
              "      width: 32px;\n",
              "    }\n",
              "\n",
              "    .colab-df-convert:hover {\n",
              "      background-color: #E2EBFA;\n",
              "      box-shadow: 0px 1px 2px rgba(60, 64, 67, 0.3), 0px 1px 3px 1px rgba(60, 64, 67, 0.15);\n",
              "      fill: #174EA6;\n",
              "    }\n",
              "\n",
              "    .colab-df-buttons div {\n",
              "      margin-bottom: 4px;\n",
              "    }\n",
              "\n",
              "    [theme=dark] .colab-df-convert {\n",
              "      background-color: #3B4455;\n",
              "      fill: #D2E3FC;\n",
              "    }\n",
              "\n",
              "    [theme=dark] .colab-df-convert:hover {\n",
              "      background-color: #434B5C;\n",
              "      box-shadow: 0px 1px 3px 1px rgba(0, 0, 0, 0.15);\n",
              "      filter: drop-shadow(0px 1px 2px rgba(0, 0, 0, 0.3));\n",
              "      fill: #FFFFFF;\n",
              "    }\n",
              "  </style>\n",
              "\n",
              "    <script>\n",
              "      const buttonEl =\n",
              "        document.querySelector('#df-2e413591-b1ec-424e-8aa3-cdb3546843a9 button.colab-df-convert');\n",
              "      buttonEl.style.display =\n",
              "        google.colab.kernel.accessAllowed ? 'block' : 'none';\n",
              "\n",
              "      async function convertToInteractive(key) {\n",
              "        const element = document.querySelector('#df-2e413591-b1ec-424e-8aa3-cdb3546843a9');\n",
              "        const dataTable =\n",
              "          await google.colab.kernel.invokeFunction('convertToInteractive',\n",
              "                                                    [key], {});\n",
              "        if (!dataTable) return;\n",
              "\n",
              "        const docLinkHtml = 'Like what you see? Visit the ' +\n",
              "          '<a target=\"_blank\" href=https://colab.research.google.com/notebooks/data_table.ipynb>data table notebook</a>'\n",
              "          + ' to learn more about interactive tables.';\n",
              "        element.innerHTML = '';\n",
              "        dataTable['output_type'] = 'display_data';\n",
              "        await google.colab.output.renderOutput(dataTable, element);\n",
              "        const docLink = document.createElement('div');\n",
              "        docLink.innerHTML = docLinkHtml;\n",
              "        element.appendChild(docLink);\n",
              "      }\n",
              "    </script>\n",
              "  </div>\n",
              "\n",
              "\n",
              "    <div id=\"df-fa42e925-a27b-4b5d-9af9-f803653189ab\">\n",
              "      <button class=\"colab-df-quickchart\" onclick=\"quickchart('df-fa42e925-a27b-4b5d-9af9-f803653189ab')\"\n",
              "                title=\"Suggest charts\"\n",
              "                style=\"display:none;\">\n",
              "\n",
              "<svg xmlns=\"http://www.w3.org/2000/svg\" height=\"24px\"viewBox=\"0 0 24 24\"\n",
              "     width=\"24px\">\n",
              "    <g>\n",
              "        <path d=\"M19 3H5c-1.1 0-2 .9-2 2v14c0 1.1.9 2 2 2h14c1.1 0 2-.9 2-2V5c0-1.1-.9-2-2-2zM9 17H7v-7h2v7zm4 0h-2V7h2v10zm4 0h-2v-4h2v4z\"/>\n",
              "    </g>\n",
              "</svg>\n",
              "      </button>\n",
              "\n",
              "<style>\n",
              "  .colab-df-quickchart {\n",
              "      --bg-color: #E8F0FE;\n",
              "      --fill-color: #1967D2;\n",
              "      --hover-bg-color: #E2EBFA;\n",
              "      --hover-fill-color: #174EA6;\n",
              "      --disabled-fill-color: #AAA;\n",
              "      --disabled-bg-color: #DDD;\n",
              "  }\n",
              "\n",
              "  [theme=dark] .colab-df-quickchart {\n",
              "      --bg-color: #3B4455;\n",
              "      --fill-color: #D2E3FC;\n",
              "      --hover-bg-color: #434B5C;\n",
              "      --hover-fill-color: #FFFFFF;\n",
              "      --disabled-bg-color: #3B4455;\n",
              "      --disabled-fill-color: #666;\n",
              "  }\n",
              "\n",
              "  .colab-df-quickchart {\n",
              "    background-color: var(--bg-color);\n",
              "    border: none;\n",
              "    border-radius: 50%;\n",
              "    cursor: pointer;\n",
              "    display: none;\n",
              "    fill: var(--fill-color);\n",
              "    height: 32px;\n",
              "    padding: 0;\n",
              "    width: 32px;\n",
              "  }\n",
              "\n",
              "  .colab-df-quickchart:hover {\n",
              "    background-color: var(--hover-bg-color);\n",
              "    box-shadow: 0 1px 2px rgba(60, 64, 67, 0.3), 0 1px 3px 1px rgba(60, 64, 67, 0.15);\n",
              "    fill: var(--button-hover-fill-color);\n",
              "  }\n",
              "\n",
              "  .colab-df-quickchart-complete:disabled,\n",
              "  .colab-df-quickchart-complete:disabled:hover {\n",
              "    background-color: var(--disabled-bg-color);\n",
              "    fill: var(--disabled-fill-color);\n",
              "    box-shadow: none;\n",
              "  }\n",
              "\n",
              "  .colab-df-spinner {\n",
              "    border: 2px solid var(--fill-color);\n",
              "    border-color: transparent;\n",
              "    border-bottom-color: var(--fill-color);\n",
              "    animation:\n",
              "      spin 1s steps(1) infinite;\n",
              "  }\n",
              "\n",
              "  @keyframes spin {\n",
              "    0% {\n",
              "      border-color: transparent;\n",
              "      border-bottom-color: var(--fill-color);\n",
              "      border-left-color: var(--fill-color);\n",
              "    }\n",
              "    20% {\n",
              "      border-color: transparent;\n",
              "      border-left-color: var(--fill-color);\n",
              "      border-top-color: var(--fill-color);\n",
              "    }\n",
              "    30% {\n",
              "      border-color: transparent;\n",
              "      border-left-color: var(--fill-color);\n",
              "      border-top-color: var(--fill-color);\n",
              "      border-right-color: var(--fill-color);\n",
              "    }\n",
              "    40% {\n",
              "      border-color: transparent;\n",
              "      border-right-color: var(--fill-color);\n",
              "      border-top-color: var(--fill-color);\n",
              "    }\n",
              "    60% {\n",
              "      border-color: transparent;\n",
              "      border-right-color: var(--fill-color);\n",
              "    }\n",
              "    80% {\n",
              "      border-color: transparent;\n",
              "      border-right-color: var(--fill-color);\n",
              "      border-bottom-color: var(--fill-color);\n",
              "    }\n",
              "    90% {\n",
              "      border-color: transparent;\n",
              "      border-bottom-color: var(--fill-color);\n",
              "    }\n",
              "  }\n",
              "</style>\n",
              "\n",
              "      <script>\n",
              "        async function quickchart(key) {\n",
              "          const quickchartButtonEl =\n",
              "            document.querySelector('#' + key + ' button');\n",
              "          quickchartButtonEl.disabled = true;  // To prevent multiple clicks.\n",
              "          quickchartButtonEl.classList.add('colab-df-spinner');\n",
              "          try {\n",
              "            const charts = await google.colab.kernel.invokeFunction(\n",
              "                'suggestCharts', [key], {});\n",
              "          } catch (error) {\n",
              "            console.error('Error during call to suggestCharts:', error);\n",
              "          }\n",
              "          quickchartButtonEl.classList.remove('colab-df-spinner');\n",
              "          quickchartButtonEl.classList.add('colab-df-quickchart-complete');\n",
              "        }\n",
              "        (() => {\n",
              "          let quickchartButtonEl =\n",
              "            document.querySelector('#df-fa42e925-a27b-4b5d-9af9-f803653189ab button');\n",
              "          quickchartButtonEl.style.display =\n",
              "            google.colab.kernel.accessAllowed ? 'block' : 'none';\n",
              "        })();\n",
              "      </script>\n",
              "    </div>\n",
              "\n",
              "    </div>\n",
              "  </div>\n"
            ],
            "application/vnd.google.colaboratory.intrinsic+json": {
              "type": "dataframe",
              "variable_name": "df",
              "summary": "{\n  \"name\": \"df\",\n  \"rows\": 800,\n  \"fields\": [\n    {\n      \"column\": \"tienda\",\n      \"properties\": {\n        \"dtype\": \"category\",\n        \"num_unique_values\": 2,\n        \"samples\": [\n          \"Provincias\",\n          \"Lima\"\n        ],\n        \"semantic_type\": \"\",\n        \"description\": \"\"\n      }\n    },\n    {\n      \"column\": \"marca\",\n      \"properties\": {\n        \"dtype\": \"category\",\n        \"num_unique_values\": 3,\n        \"samples\": [\n          \"Asics\",\n          \"Nike\"\n        ],\n        \"semantic_type\": \"\",\n        \"description\": \"\"\n      }\n    },\n    {\n      \"column\": \"tipo\",\n      \"properties\": {\n        \"dtype\": \"category\",\n        \"num_unique_values\": 21,\n        \"samples\": [\n          \"WB1820\",\n          \"Ultra Boost\"\n        ],\n        \"semantic_type\": \"\",\n        \"description\": \"\"\n      }\n    },\n    {\n      \"column\": \"genero\",\n      \"properties\": {\n        \"dtype\": \"category\",\n        \"num_unique_values\": 3,\n        \"samples\": [\n          \"F\",\n          \"U\"\n        ],\n        \"semantic_type\": \"\",\n        \"description\": \"\"\n      }\n    },\n    {\n      \"column\": \"talla\",\n      \"properties\": {\n        \"dtype\": \"category\",\n        \"num_unique_values\": 47,\n        \"samples\": [\n          \"65D\",\n          \"65B\"\n        ],\n        \"semantic_type\": \"\",\n        \"description\": \"\"\n      }\n    },\n    {\n      \"column\": \"color\",\n      \"properties\": {\n        \"dtype\": \"category\",\n        \"num_unique_values\": 7,\n        \"samples\": [\n          \"Azul\",\n          \"Rosado\"\n        ],\n        \"semantic_type\": \"\",\n        \"description\": \"\"\n      }\n    },\n    {\n      \"column\": \"categoria\",\n      \"properties\": {\n        \"dtype\": \"category\",\n        \"num_unique_values\": 4,\n        \"samples\": [\n          \"Ropa interior\",\n          \"Sujetadores\"\n        ],\n        \"semantic_type\": \"\",\n        \"description\": \"\"\n      }\n    },\n    {\n      \"column\": \"precio\",\n      \"properties\": {\n        \"dtype\": \"number\",\n        \"std\": 55.146881327392435,\n        \"min\": 12.99,\n        \"max\": 239.0,\n        \"num_unique_values\": 19,\n        \"samples\": [\n          89.0,\n          159.0\n        ],\n        \"semantic_type\": \"\",\n        \"description\": \"\"\n      }\n    },\n    {\n      \"column\": \"fecha_hora\",\n      \"properties\": {\n        \"dtype\": \"date\",\n        \"min\": \"2015-07-15 07:32:00\",\n        \"max\": \"2015-07-22 23:06:00\",\n        \"num_unique_values\": 735,\n        \"samples\": [\n          \"2015-07-20 13:30:00\",\n          \"2015-07-15 19:36:00\"\n        ],\n        \"semantic_type\": \"\",\n        \"description\": \"\"\n      }\n    }\n  ]\n}"
            }
          },
          "metadata": {},
          "execution_count": 23
        }
      ]
    },
    {
      "cell_type": "code",
      "source": [
        "# Resumen de la información del DataFrame\n",
        "df.info()"
      ],
      "metadata": {
        "id": "1g3Vwm0IIjO4"
      },
      "execution_count": null,
      "outputs": []
    },
    {
      "cell_type": "code",
      "source": [],
      "metadata": {
        "id": "WjQL0niO7Fc_"
      },
      "execution_count": 16,
      "outputs": []
    },
    {
      "cell_type": "code",
      "source": [
        "# Renombrar columnas para facilitar el acceso y evitar caracteres especiales\n",
        "df.rename(columns ={\n",
        "    'Tienda': 'tienda',\n",
        "    'Marca': 'marca',\n",
        "    'Tipo': 'tipo',\n",
        "    'Gï¿½nero': 'genero',\n",
        "    'Talla': 'talla',\n",
        "    'Color': 'color',\n",
        "    'Categoria': 'categoria',\n",
        "    'precio de venta': 'precio',\n",
        "    'Fecha': 'fecha',\n",
        "    'Hora': 'hora'\n",
        "}, inplace=True)\n",
        "\n",
        "# Convertí la columna 'precio' a numérica\n",
        "df['precio'] = df['precio'].astype(str)\n",
        "df['precio'] = df['precio'].str.replace(',', '.', regex=True).astype(float)\n",
        "\n",
        "# Limpiar y unificar los datos de la columna 'genero'\n",
        "df['genero'] = df['genero'].str.replace('Masculino', 'M', regex=False).str.replace('Femenino', 'F', regex=False).str.replace('Usinex', 'U', regex=False)\n",
        "\n",
        "# Crear una columna de fecha y hora combinada y convertila al tipo datatime\n",
        "df['fecha_hora'] = pd.to_datetime(df['fecha'] + ' ' + df['hora'], format='%d/%m/%Y %H:%M:%S')\n",
        "\n",
        "# Eliminar las columnas originales de fecha y hora\n",
        "df.drop(columns=['fecha', 'hora'], inplace=True)\n",
        "\n",
        "print(\"Transformación de datos exitosa\")\n"
      ],
      "metadata": {
        "colab": {
          "base_uri": "https://localhost:8080/"
        },
        "id": "sP1g9ZhGLEF_",
        "outputId": "bfcfc196-9fba-4751-e6e3-bd449bd83fe7"
      },
      "execution_count": 17,
      "outputs": [
        {
          "output_type": "stream",
          "name": "stdout",
          "text": [
            "Transformación de datos exitosa\n"
          ]
        }
      ]
    },
    {
      "cell_type": "markdown",
      "source": [
        "### 3. Carga (Load)"
      ],
      "metadata": {
        "id": "RW8p7SsxBOAf"
      }
    },
    {
      "cell_type": "code",
      "source": [
        "# definir la ruta de salida para guardar el nuevo CSV\n",
        "ruta_salida = '/content/drive/MyDrive/ventas_transformadas.csv'\n",
        "\n",
        "# Guardar el dataframe transformado en un nuevo archivo CSV en Drive\n",
        "df.to_csv(ruta_salida, index=False, sep=',')\n",
        "\n",
        "print(f'Archivo CSV guardado en: {ruta_salida}')"
      ],
      "metadata": {
        "colab": {
          "base_uri": "https://localhost:8080/"
        },
        "id": "9zxL45boBcdF",
        "outputId": "683d9bdd-15e6-46bb-d3e2-0c532b912352"
      },
      "execution_count": 21,
      "outputs": [
        {
          "output_type": "stream",
          "name": "stdout",
          "text": [
            "Archivo CSV guardado en: /content/drive/MyDrive/ventas_transformadas.csv\n"
          ]
        }
      ]
    },
    {
      "cell_type": "markdown",
      "source": [
        "## 2 - EDA (Análisis Exploratorio de datos)"
      ],
      "metadata": {
        "id": "1ksrWj9xGyZf"
      }
    },
    {
      "cell_type": "code",
      "source": [
        "# Cuanto facturó cada tienda.\n",
        "facturacion_ordenada = df.groupby(['tienda', 'marca'])['precio'].sum().reset_index()\n",
        "\n",
        "top = facturacion_ordenada.sort_values(by='precio', ascending=False)\n",
        "\n",
        "print(top.head(3))"
      ],
      "metadata": {
        "id": "bu_1jwB-HJ3k"
      },
      "execution_count": null,
      "outputs": []
    },
    {
      "cell_type": "code",
      "source": [
        "# Filtrado condicional -- Boolean Indexing\n",
        "\n",
        "# 1 - Definir la condición: categoria es Pantalon & color es Negro\n",
        "condicion = (df['categoria'] == 'Pantalon') & (df['color'] == 'Negro')\n",
        "\n",
        "# 2 - Aplicar la condición al DataFrame\n",
        "df_filtrado = df[condicion]\n",
        "\n",
        "# 3 - Responder la pregunta\n",
        "conteo_transacciones = len(df_filtrado)\n",
        "facturacion_total = df_filtrado['precio'].sum()\n",
        "\n",
        "print(f'Cantidad de pantalones negros vendidos : {conteo_transacciones} por un monto de {facturacion_total} ')\n",
        "\n"
      ],
      "metadata": {
        "colab": {
          "base_uri": "https://localhost:8080/"
        },
        "id": "zmFm1vlpMCHE",
        "outputId": "7bd4687a-d0f4-463b-8b03-3820cfe5d476"
      },
      "execution_count": 34,
      "outputs": [
        {
          "output_type": "stream",
          "name": "stdout",
          "text": [
            "Cantidad de pantalones negros vendidos : 165 por un monto de 16045.0 \n"
          ]
        }
      ]
    }
  ]
}